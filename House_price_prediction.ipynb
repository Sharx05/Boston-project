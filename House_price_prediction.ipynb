{
  "nbformat": 4,
  "nbformat_minor": 0,
  "metadata": {
    "colab": {
      "provenance": []
    },
    "kernelspec": {
      "name": "python3",
      "display_name": "Python 3"
    },
    "language_info": {
      "name": "python"
    }
  },
  "cells": [
    {
      "cell_type": "code",
      "source": [
        "\n",
        "import numpy as np\n",
        "import pandas as pd\n",
        "import matplotlib.pyplot as plt\n",
        "import seaborn as sns\n",
        "from sklearn.model_selection import train_test_split\n",
        "from sklearn.linear_model import LinearRegression\n",
        "from sklearn import metrics\n",
        "from xgboost import XGBRegressor\n",
        "import pickle\n",
        "data = pd.read_csv('/content/BostonHousing.csv')\n",
        "print(\"Columns:\", data.columns)\n",
        "X = data.drop(columns=['price'])\n",
        "y = data['price']\n",
        "X_train, X_test, y_train, y_test = train_test_split(X, y, test_size=0.2, random_state=2)\n",
        "lr_model = LinearRegression()\n",
        "lr_model.fit(X_train, y_train)\n",
        "lr_pred = lr_model.predict(X_test)\n",
        "print(\"Linear Regression R2 Score:\", metrics.r2_score(y_test, lr_pred))\n",
        "print(\"Linear Regression MAE:\", metrics.mean_absolute_error(y_test, lr_pred))\n",
        "xgb_model = XGBRegressor()\n",
        "xgb_model.fit(X_train, y_train)\n",
        "xgb_pred = xgb_model.predict(X_test)\n",
        "print(\"XGBoost R2 Score:\", metrics.r2_score(y_test, xgb_pred))\n",
        "print(\"XGBoost MAE:\", metrics.mean_absolute_error(y_test, xgb_pred))\n",
        "with open('House_price_prediction.pkl', 'wb') as file:\n",
        "    pickle.dump(xgb_model, file)\n",
        "\n",
        "\n"
      ],
      "metadata": {
        "id": "N2xTCzw4XOIy",
        "colab": {
          "base_uri": "https://localhost:8080/"
        },
        "outputId": "cdb6df35-c8ae-4df5-a287-80ff166e065f"
      },
      "execution_count": 20,
      "outputs": [
        {
          "output_type": "stream",
          "name": "stdout",
          "text": [
            "Columns: Index(['crim', 'zn', 'indus', 'chas', 'nox', 'rm', 'age', 'dis', 'rad', 'tax',\n",
            "       'ptratio', 'b', 'lstat', 'price'],\n",
            "      dtype='object')\n",
            "Linear Regression R2 Score: 0.7789207451814409\n",
            "Linear Regression MAE: 3.1130437468934384\n",
            "XGBoost R2 Score: 0.9051721149855378\n",
            "XGBoost MAE: 2.0748727686264927\n"
          ]
        }
      ]
    }
  ]
}